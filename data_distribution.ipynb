{
 "cells": [
  {
   "cell_type": "code",
   "execution_count": 2,
   "metadata": {},
   "outputs": [
    {
     "name": "stdout",
     "output_type": "stream",
     "text": [
      "[[7 7 7 5 5]\n",
      " [7 7 7 7 5]\n",
      " [5 5 3 7 3]]\n"
     ]
    }
   ],
   "source": [
    "#data distribution is a list of all possible values, how often each value occurs.\n",
    "#such lists are important when working with statistics and data science\n",
    "from numpy import random\n",
    "x=random.choice([3,5,7,9],p=[0.1,0.3,0.6,0.0], size=(3,5))\n",
    "print(x)"
   ]
  },
  {
   "cell_type": "code",
   "execution_count": 3,
   "metadata": {},
   "outputs": [
    {
     "name": "stdout",
     "output_type": "stream",
     "text": [
      "[7 7 3 5 7 7 5 3 5 3 7 7 7 7 7 5 3 7 5 7 5 7 7 7 5 7 5 3 7 7 7 7 7 5 7 7 5\n",
      " 7 7 7 7 3 7 7 5 7 3 7 5 3 7 7 7 7 7 7 7 7 7 7 7 7 7 5 7 7 7 7 5 7 7 7 3 7\n",
      " 5 3 7 5 7 5 7 5 3 7 7 5 5 7 5 7 7 7 7 5 5 5 7 7 5 5]\n"
     ]
    }
   ],
   "source": [
    "from numpy import random\n",
    "x=random.choice([3,5,7,9],p=[0.1,0.3,0.6,0.0],size=(100))\n",
    "print(x)"
   ]
  },
  {
   "cell_type": "code",
   "execution_count": 16,
   "metadata": {},
   "outputs": [
    {
     "name": "stdout",
     "output_type": "stream",
     "text": [
      "[2 2 9 9 9 2 9 2 2 2]\n"
     ]
    }
   ],
   "source": [
    "from numpy import random\n",
    "x=random.choice([1,2,9,8,7], p=[0.1,0.5,0.2,0.2,0.0],size=[10])\n",
    "print(x)"
   ]
  },
  {
   "cell_type": "code",
   "execution_count": 26,
   "metadata": {},
   "outputs": [
    {
     "name": "stdout",
     "output_type": "stream",
     "text": [
      "[1.2 2.  3.9 4.  5.1]\n",
      "8\n"
     ]
    },
    {
     "data": {
      "text/plain": [
       "dtype('float64')"
      ]
     },
     "execution_count": 26,
     "metadata": {},
     "output_type": "execute_result"
    }
   ],
   "source": [
    "import numpy as np\n",
    "arr=np.array([1.2,2.0,3.9,4.0,5.1])\n",
    "print(arr)\n",
    "print(arr.itemsize)\n",
    "arr.dtype"
   ]
  },
  {
   "cell_type": "code",
   "execution_count": 1,
   "metadata": {},
   "outputs": [
    {
     "name": "stdout",
     "output_type": "stream",
     "text": [
      "[3 2 4 5 1 6]\n"
     ]
    }
   ],
   "source": [
    "from numpy import  random\n",
    "import numpy as np\n",
    "arr=np.array([1,2,3,4,5,6])\n",
    "random.shuffle(arr)\n",
    "print(arr)\n"
   ]
  },
  {
   "cell_type": "code",
   "execution_count": 3,
   "metadata": {},
   "outputs": [
    {
     "name": "stdout",
     "output_type": "stream",
     "text": [
      "[3 2 4 5 1 6]\n",
      "[3 1 4 2 6 5]\n"
     ]
    }
   ],
   "source": [
    "arr1= random.permutation(arr)\n",
    "print(arr)\n",
    "print(arr1)"
   ]
  }
 ],
 "metadata": {
  "kernelspec": {
   "display_name": "Python 3",
   "language": "python",
   "name": "python3"
  },
  "language_info": {
   "codemirror_mode": {
    "name": "ipython",
    "version": 3
   },
   "file_extension": ".py",
   "mimetype": "text/x-python",
   "name": "python",
   "nbconvert_exporter": "python",
   "pygments_lexer": "ipython3",
   "version": "3.11.8"
  }
 },
 "nbformat": 4,
 "nbformat_minor": 2
}
