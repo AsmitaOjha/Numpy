{
 "cells": [
  {
   "cell_type": "code",
   "execution_count": 2,
   "metadata": {},
   "outputs": [
    {
     "name": "stdout",
     "output_type": "stream",
     "text": [
      "[[7 7 7 5 5]\n",
      " [7 7 7 7 5]\n",
      " [5 5 3 7 3]]\n"
     ]
    }
   ],
   "source": [
    "#data distribution is a list of all possible values, how often each value occurs.\n",
    "#such lists are important when working with statistics and data science\n",
    "from numpy import random\n",
    "x=random.choice([3,5,7,9],p=[0.1,0.3,0.6,0.0], size=(3,5))\n",
    "print(x)"
   ]
  },
  {
   "cell_type": "code",
   "execution_count": 3,
   "metadata": {},
   "outputs": [
    {
     "name": "stdout",
     "output_type": "stream",
     "text": [
      "[7 7 3 5 7 7 5 3 5 3 7 7 7 7 7 5 3 7 5 7 5 7 7 7 5 7 5 3 7 7 7 7 7 5 7 7 5\n",
      " 7 7 7 7 3 7 7 5 7 3 7 5 3 7 7 7 7 7 7 7 7 7 7 7 7 7 5 7 7 7 7 5 7 7 7 3 7\n",
      " 5 3 7 5 7 5 7 5 3 7 7 5 5 7 5 7 7 7 7 5 5 5 7 7 5 5]\n"
     ]
    }
   ],
   "source": [
    "from numpy import random\n",
    "x=random.choice([3,5,7,9],p=[0.1,0.3,0.6,0.0],size=(100))\n",
    "print(x)"
   ]
  }
 ],
 "metadata": {
  "kernelspec": {
   "display_name": "Python 3",
   "language": "python",
   "name": "python3"
  },
  "language_info": {
   "codemirror_mode": {
    "name": "ipython",
    "version": 3
   },
   "file_extension": ".py",
   "mimetype": "text/x-python",
   "name": "python",
   "nbconvert_exporter": "python",
   "pygments_lexer": "ipython3",
   "version": "3.11.8"
  }
 },
 "nbformat": 4,
 "nbformat_minor": 2
}
