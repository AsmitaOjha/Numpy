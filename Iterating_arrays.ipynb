{
 "cells": [
  {
   "cell_type": "code",
   "execution_count": 1,
   "metadata": {},
   "outputs": [
    {
     "name": "stdout",
     "output_type": "stream",
     "text": [
      "1\n",
      "2\n",
      "3\n",
      "4\n",
      "5\n",
      "6\n",
      "7\n",
      "8\n"
     ]
    }
   ],
   "source": [
    "import numpy as np\n",
    "arr =np.array([1, 2,3,4,5,6,7,8,])\n",
    "for x in arr:\n",
    "    print(x)"
   ]
  },
  {
   "cell_type": "code",
   "execution_count": 3,
   "metadata": {},
   "outputs": [
    {
     "name": "stdout",
     "output_type": "stream",
     "text": [
      "[2 4 6 8]\n",
      "[10 12 14 16]\n",
      "2\n",
      "4\n",
      "6\n",
      "8\n",
      "10\n",
      "12\n",
      "14\n",
      "16\n"
     ]
    }
   ],
   "source": [
    "#Iterating 2D array\n",
    "arr=np.array([[2,4,6,8],[10,12,14,16]])\n",
    "for x in arr:\n",
    "    print(x)\n",
    "for x in arr:\n",
    "    for y in x:\n",
    "        print(y)"
   ]
  },
  {
   "cell_type": "code",
   "execution_count": 6,
   "metadata": {},
   "outputs": [
    {
     "name": "stdout",
     "output_type": "stream",
     "text": [
      "[[[ 1  2  3  4  5]\n",
      "  [ 6  7  8  9 10]]\n",
      "\n",
      " [[ 3  5  7  9 11]\n",
      "  [11 13 15 17 21]]]\n",
      "3\n",
      "1\n",
      "2\n",
      "3\n",
      "4\n",
      "5\n",
      "6\n",
      "7\n",
      "8\n",
      "9\n",
      "10\n",
      "3\n",
      "5\n",
      "7\n",
      "9\n",
      "11\n",
      "11\n",
      "13\n",
      "15\n",
      "17\n",
      "21\n"
     ]
    }
   ],
   "source": [
    "#Iterating 3D array\n",
    "arr = np.array([[[1,2,3,4,5],[6,7,8,9,10]],[[3,5,7,9,11],[11,13,15,17,21]]])\n",
    "print(arr)\n",
    "print(arr.ndim)\n",
    "for x in arr:\n",
    "    for y in x:\n",
    "        for z in y:\n",
    "            print(z)"
   ]
  },
  {
   "cell_type": "code",
   "execution_count": 9,
   "metadata": {},
   "outputs": [
    {
     "name": "stdout",
     "output_type": "stream",
     "text": [
      "1\n",
      "2\n",
      "3\n",
      "4\n",
      "6\n",
      "7\n",
      "8\n",
      "9\n",
      "2\n",
      "4\n",
      "6\n",
      "8\n",
      "10\n",
      "12\n",
      "14\n",
      "16\n",
      "(0, 0, 0) 1\n",
      "(0, 0, 1) 2\n",
      "(0, 0, 2) 3\n",
      "(0, 0, 3) 4\n",
      "(0, 1, 0) 6\n",
      "(0, 1, 1) 7\n",
      "(0, 1, 2) 8\n",
      "(0, 1, 3) 9\n",
      "(1, 0, 0) 2\n",
      "(1, 0, 1) 4\n",
      "(1, 0, 2) 6\n",
      "(1, 0, 3) 8\n",
      "(1, 1, 0) 10\n",
      "(1, 1, 1) 12\n",
      "(1, 1, 2) 14\n",
      "(1, 1, 3) 16\n",
      "b'1'\n",
      "b'2'\n",
      "b'3'\n",
      "b'4'\n",
      "b'6'\n",
      "b'7'\n",
      "b'8'\n",
      "b'9'\n",
      "b'2'\n",
      "b'4'\n",
      "b'6'\n",
      "b'8'\n",
      "b'10'\n",
      "b'12'\n",
      "b'14'\n",
      "b'16'\n"
     ]
    }
   ],
   "source": [
    "#iterating arrays using nditer()\n",
    "arr=np.array([[[1,2,3,4,],[6,7,8,9,]],[[2,4,6,8],[10,12,14,16]]])\n",
    "for x in np.nditer(arr):\n",
    "    print(x)\n",
    "#enumerated iterationg using ndenumerate()\n",
    "for y, x in np.ndenumerate(arr):\n",
    "    print(y,x)\n"
   ]
  },
  {
   "cell_type": "code",
   "execution_count": 10,
   "metadata": {},
   "outputs": [
    {
     "name": "stdout",
     "output_type": "stream",
     "text": [
      "b'1'\n",
      "b'2'\n",
      "b'3'\n",
      "b'4'\n",
      "b'6'\n",
      "b'7'\n",
      "b'8'\n",
      "b'9'\n",
      "b'2'\n",
      "b'4'\n",
      "b'6'\n",
      "b'8'\n",
      "b'10'\n",
      "b'12'\n",
      "b'14'\n",
      "b'16'\n"
     ]
    }
   ],
   "source": [
    "#iterating array with different data types\n",
    "for x in np.nditer(arr,flags=['buffered'],op_dtypes=['S']):\n",
    "    print(x)"
   ]
  },
  {
   "cell_type": "code",
   "execution_count": 11,
   "metadata": {},
   "outputs": [
    {
     "name": "stdout",
     "output_type": "stream",
     "text": [
      "1\n",
      "2\n",
      "3\n",
      "4\n",
      "2\n",
      "4\n",
      "6\n",
      "8\n"
     ]
    }
   ],
   "source": [
    "#iterating wiht different step size\n",
    "for x in np.nditer(arr[:,::2]):\n",
    "    print(x)"
   ]
  }
 ],
 "metadata": {
  "kernelspec": {
   "display_name": "Python 3",
   "language": "python",
   "name": "python3"
  },
  "language_info": {
   "codemirror_mode": {
    "name": "ipython",
    "version": 3
   },
   "file_extension": ".py",
   "mimetype": "text/x-python",
   "name": "python",
   "nbconvert_exporter": "python",
   "pygments_lexer": "ipython3",
   "version": "3.11.8"
  }
 },
 "nbformat": 4,
 "nbformat_minor": 2
}
