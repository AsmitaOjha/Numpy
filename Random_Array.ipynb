{
 "cells": [
  {
   "cell_type": "code",
   "execution_count": 2,
   "metadata": {},
   "outputs": [
    {
     "name": "stdout",
     "output_type": "stream",
     "text": [
      "[41 28 96 17 94]\n"
     ]
    }
   ],
   "source": [
    "#Generate Random Array\n",
    "#Integers\n",
    "from numpy import random\n",
    "x=random.randint(100,size=(5))\n",
    "print(x)\n"
   ]
  },
  {
   "cell_type": "code",
   "execution_count": 3,
   "metadata": {},
   "outputs": [
    {
     "name": "stdout",
     "output_type": "stream",
     "text": [
      "[0.98149384 0.3903126  0.12224981 0.65081155 0.54403279]\n"
     ]
    }
   ],
   "source": [
    "#Float\n",
    "y=random.rand(5)\n",
    "print(y)"
   ]
  },
  {
   "cell_type": "code",
   "execution_count": 4,
   "metadata": {},
   "outputs": [
    {
     "name": "stdout",
     "output_type": "stream",
     "text": [
      "[[11 53  0  5 24]\n",
      " [40 38 72 65 31]\n",
      " [35 39 23 72 55]]\n",
      "[[0.60728688 0.04213033 0.34622888 0.70319034 0.30544333]\n",
      " [0.40557965 0.2880525  0.65933572 0.44628027 0.85395909]\n",
      " [0.49288569 0.75413618 0.83154865 0.8587467  0.94345189]]\n"
     ]
    }
   ],
   "source": [
    "#2 dimensional array\n",
    "x=random.randint(100,size=(3,5))\n",
    "print(x)\n",
    "y=random.rand(3,5)\n",
    "print(y)"
   ]
  }
 ],
 "metadata": {
  "kernelspec": {
   "display_name": "Python 3",
   "language": "python",
   "name": "python3"
  },
  "language_info": {
   "codemirror_mode": {
    "name": "ipython",
    "version": 3
   },
   "file_extension": ".py",
   "mimetype": "text/x-python",
   "name": "python",
   "nbconvert_exporter": "python",
   "pygments_lexer": "ipython3",
   "version": "3.11.8"
  }
 },
 "nbformat": 4,
 "nbformat_minor": 2
}
