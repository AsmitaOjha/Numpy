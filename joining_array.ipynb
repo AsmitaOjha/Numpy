{
 "cells": [
  {
   "cell_type": "code",
   "execution_count": 4,
   "metadata": {},
   "outputs": [
    {
     "name": "stdout",
     "output_type": "stream",
     "text": [
      "[[ 1  2  3 11 13 15]\n",
      " [ 4  5  6 17 19 21]]\n"
     ]
    }
   ],
   "source": [
    "import numpy as np\n",
    "arr1= np.array([[1,2,3], [4,5,6]])\n",
    "arr2= np.array([[11,13,15],[17,19,21]])\n",
    "arr=np.concatenate((arr1,arr2),axis=1)\n",
    "print(arr)"
   ]
  },
  {
   "cell_type": "code",
   "execution_count": 7,
   "metadata": {},
   "outputs": [
    {
     "name": "stdout",
     "output_type": "stream",
     "text": [
      "[[1 4]\n",
      " [2 5]\n",
      " [3 6]]\n",
      "[[1 2 3]\n",
      " [4 5 6]]\n"
     ]
    }
   ],
   "source": [
    "arr3=np.array([1,2,3])\n",
    "arr4=np.array([4,5,6])\n",
    "arr5=np.stack((arr3,arr4),axis=1)\n",
    "print(arr5)\n",
    "arr6=np.stack((arr3,arr4),axis=0)\n",
    "print(arr6)\n",
    "            "
   ]
  },
  {
   "cell_type": "code",
   "execution_count": 19,
   "metadata": {},
   "outputs": [
    {
     "name": "stdout",
     "output_type": "stream",
     "text": [
      "[array([1, 2, 3]), array([4, 5, 6]), array([7, 8, 9]), array([10, 11])]\n"
     ]
    }
   ],
   "source": [
    "#Numpy Splitting Array\n",
    "arr7=np.array([1,2,3,4,5,6,7,8,9,10,11])\n",
    "newarr1=np.array_split(arr7,4)\n",
    "print(newarr1)"
   ]
  },
  {
   "cell_type": "code",
   "execution_count": 21,
   "metadata": {},
   "outputs": [
    {
     "name": "stdout",
     "output_type": "stream",
     "text": [
      "(array([ 2,  5,  8, 11], dtype=int64),)\n",
      "(array([ 1,  3,  6,  7, 10], dtype=int64),)\n",
      "(array([ 0,  2,  4,  5,  8,  9, 11], dtype=int64),)\n"
     ]
    }
   ],
   "source": [
    "#Searching Arrays\n",
    "arr8=np.array([1,2,3,4,5,3,6,2,3,9,8,3])\n",
    "x=np.where(arr8==3)\n",
    "print(x)\n",
    "#find the indexes where the values are even\n",
    "y=np.where(arr8%2==0)\n",
    "print(y)\n",
    "#find the indexes where the values are odd:\n",
    "z=np.where(arr8%2==1)\n",
    "print(z)"
   ]
  }
 ],
 "metadata": {
  "kernelspec": {
   "display_name": "Python 3",
   "language": "python",
   "name": "python3"
  },
  "language_info": {
   "codemirror_mode": {
    "name": "ipython",
    "version": 3
   },
   "file_extension": ".py",
   "mimetype": "text/x-python",
   "name": "python",
   "nbconvert_exporter": "python",
   "pygments_lexer": "ipython3",
   "version": "3.11.8"
  }
 },
 "nbformat": 4,
 "nbformat_minor": 2
}
