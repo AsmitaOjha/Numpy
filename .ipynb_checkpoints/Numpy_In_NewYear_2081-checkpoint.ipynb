{
 "cells": [
  {
   "cell_type": "markdown",
   "id": "330b5b39-9988-44c7-83ea-a1b5b7d42da0",
   "metadata": {},
   "source": [
    "# Welcome to Numpy Learning"
   ]
  },
  {
   "cell_type": "code",
   "execution_count": 1,
   "id": "3cc96399-a17b-4232-80da-57dbbd565874",
   "metadata": {},
   "outputs": [],
   "source": [
    "import numpy as np"
   ]
  },
  {
   "cell_type": "code",
   "execution_count": 2,
   "id": "72e9720f-d453-4ebf-834d-ff5750c011b4",
   "metadata": {},
   "outputs": [],
   "source": [
    "myarr = np.array([1,2,3,4,5])"
   ]
  },
  {
   "cell_type": "code",
   "execution_count": 3,
   "id": "94533b17-872d-4ebb-8f9a-788d252fa893",
   "metadata": {},
   "outputs": [
    {
     "data": {
      "text/plain": [
       "array([1, 2, 3, 4, 5])"
      ]
     },
     "execution_count": 3,
     "metadata": {},
     "output_type": "execute_result"
    }
   ],
   "source": [
    "myarr"
   ]
  },
  {
   "cell_type": "code",
   "execution_count": 4,
   "id": "10fba1ec-aa20-41c8-9b66-a11fe560feb8",
   "metadata": {},
   "outputs": [],
   "source": [
    "arr = np.array([2,4,6,8,10])"
   ]
  },
  {
   "cell_type": "code",
   "execution_count": 5,
   "id": "6f4c0752-fc99-437b-b183-a5b36fd43191",
   "metadata": {},
   "outputs": [
    {
     "name": "stdout",
     "output_type": "stream",
     "text": [
      "[ 2  4  6  8 10]\n"
     ]
    }
   ],
   "source": [
    "print(arr)"
   ]
  },
  {
   "cell_type": "code",
   "execution_count": null,
   "id": "925ae460-ad92-4340-9da0-29573e19c236",
   "metadata": {},
   "outputs": [],
   "source": []
  }
 ],
 "metadata": {
  "kernelspec": {
   "display_name": "Python 3 (ipykernel)",
   "language": "python",
   "name": "python3"
  },
  "language_info": {
   "codemirror_mode": {
    "name": "ipython",
    "version": 3
   },
   "file_extension": ".py",
   "mimetype": "text/x-python",
   "name": "python",
   "nbconvert_exporter": "python",
   "pygments_lexer": "ipython3",
   "version": "3.11.8"
  }
 },
 "nbformat": 4,
 "nbformat_minor": 5
}
