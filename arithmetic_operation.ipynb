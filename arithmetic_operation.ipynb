{
 "cells": [
  {
   "cell_type": "code",
   "execution_count": 15,
   "metadata": {},
   "outputs": [
    {
     "name": "stdout",
     "output_type": "stream",
     "text": [
      "[[12 14]\n",
      " [16 18]]\n",
      "________________________________________\n",
      "[[10 10]\n",
      " [10 10]]\n",
      "________________________________________\n",
      "[[11 24]\n",
      " [39 56]]\n",
      "________________________________________\n",
      "[[37 40]\n",
      " [85 92]]\n",
      "________________________________________\n",
      "[[11.          6.        ]\n",
      " [ 4.33333333  3.5       ]]\n",
      "******************************\n",
      "[[11  6]\n",
      " [ 4  3]]\n",
      "******************************\n",
      "[[   11   144]\n",
      " [ 2197 38416]]\n",
      "******************************\n",
      "[[0 0]\n",
      " [1 2]]\n",
      "******************************\n",
      "[[1 3]\n",
      " [2 4]]\n"
     ]
    }
   ],
   "source": [
    "import numpy as np\n",
    "x=np.array([[1,2],[3,4]])\n",
    "y=np.array([[11,12],[13,14]])\n",
    "z=x+y\n",
    "print(z)\n",
    "print('_'*40)\n",
    "p=y-x\n",
    "print(p)\n",
    "print('_'*40)\n",
    "#normal multiplication element wise\n",
    "q=x*y\n",
    "print(q)\n",
    "print('_'*40)\n",
    "#matrix multiplication using @ symbol\n",
    "r=x@y\n",
    "print(r)\n",
    "print('_'*40)\n",
    "#division\n",
    "s=y/x\n",
    "print(s)\n",
    "print(\"*\"*30)\n",
    "#floor division\n",
    "t=y//x\n",
    "print(t)\n",
    "print(\"*\"*30)\n",
    "#exponention\n",
    "u=y**x\n",
    "print(u)\n",
    "print(\"*\"*30)\n",
    "#remainder\n",
    "v=y%x\n",
    "print(v)\n",
    "print(\"*\"*30)\n",
    "#transpose : rows columns bannxan, columns rows bannaxan\n",
    "print(x.transpose())"
   ]
  }
 ],
 "metadata": {
  "kernelspec": {
   "display_name": "Python 3",
   "language": "python",
   "name": "python3"
  },
  "language_info": {
   "codemirror_mode": {
    "name": "ipython",
    "version": 3
   },
   "file_extension": ".py",
   "mimetype": "text/x-python",
   "name": "python",
   "nbconvert_exporter": "python",
   "pygments_lexer": "ipython3",
   "version": "3.11.8"
  }
 },
 "nbformat": 4,
 "nbformat_minor": 2
}
